{
 "cells": [
  {
   "cell_type": "code",
   "execution_count": null,
   "metadata": {},
   "outputs": [],
   "source": [
    "from pyomo.environ import *\n",
    "import numpy as np\n",
    "import matplotlib.pyplot as plt\n",
    "import csv\n",
    "import scipy.io as spio\n",
    "import pandas as pd"
   ]
  },
  {
   "cell_type": "code",
   "execution_count": null,
   "metadata": {},
   "outputs": [],
   "source": [
    "load = pd.read_csv('building_energy_storage_simulation/data/preprocessed/electricity_load_profile.csv')['Load [kWh]']\n",
    "price = pd.read_csv('building_energy_storage_simulation/data/preprocessed/electricity_price_profile.csv')['Day Ahead Auction']\n",
    "generation_forecast = pd.read_csv('building_energy_storage_simulation/data/preprocessed/solar_generation_profile.csv')['Generation [kWh]']\n",
    "load = np.array(load)\n",
    "price = np.array(price)\n",
    "\n",
    "load = load[200:400]\n",
    "price = price[200:400]"
   ]
  },
  {
   "cell_type": "code",
   "execution_count": null,
   "metadata": {},
   "outputs": [],
   "source": [
    "n = len(load)\n",
    "dt = 1\n",
    "\n",
    "# model parameter initilization\n",
    "time = range(n)\n",
    "soc_time = range(n+1)\n",
    "max_power_charge = 20\n",
    "max_power_discharge =-20\n",
    "max_soc = 100\n",
    "min_soc = 0\n",
    "soc_init = 50\n",
    "energy_capacity = 100\n",
    "\n",
    "m =  AbstractModel()\n",
    "m.pe_c = Var(time, domain=NonNegativeReals,bounds=(0,value(max_power_charge)))\n",
    "m.pe_d = Var(time, domain=NegativeReals,bounds=(value(max_power_discharge),0))\n",
    "m.soc = Var(soc_time, bounds=(value(min_soc),value(max_soc)))\n",
    "\n",
    "def obj_expression(m):\n",
    "    return sum([price[i]*(m.pe_c[i] + m.pe_d[i]) for i in time]) \n",
    "m.OBJ = Objective(rule=obj_expression, sense=minimize)\n",
    "\n",
    "def soc_start_rule(m):\n",
    "    return m.soc[0] == soc_init\n",
    "m.soc_start = Constraint(rule=soc_start_rule)\n",
    "\n",
    "def soc_constraint_rule(m,i):\n",
    "    return m.soc[i+1] ==  float(100) * dt * (m.pe_d[i] + m.pe_c[i]) / energy_capacity + m.soc[i]\n",
    "m.soc_constraints = Constraint(time, rule=soc_constraint_rule) \n",
    "\n",
    "instance = m.create_instance()\n",
    "\n",
    "solver = SolverFactory('ipopt')\n",
    "solver.solve(instance,tee=True) \n",
    "\n",
    "m = instance\n",
    "t = [value(time[i])*dt for i in time]\n",
    "pe = [(value(m.pe_c[i]) + value(m.pe_d[i])) for i in time]"
   ]
  },
  {
   "cell_type": "code",
   "execution_count": null,
   "metadata": {},
   "outputs": [],
   "source": [
    "fig1 = plt.figure()\n",
    "ax = plt.subplot()\n",
    "Line1 = ax.plot(time, [(load[i]) for i in time], label='Residual Load')\n",
    "Line2 = ax.plot(time, [(load[i]+pe[i]) for i in time], label='Load + Battery')\n",
    "Line3 = ax.plot(time, price, '--', label='price')\n",
    "plt.ylabel('Load (kW) & Price (Cent per kWh)')\n",
    "plt.xlabel('Time Step')\n",
    "ax.legend()\n",
    "ax.grid()"
   ]
  },
  {
   "cell_type": "code",
   "execution_count": null,
   "metadata": {},
   "outputs": [],
   "source": [
    "plt.subplot()\n",
    "Line4, = plt.step(t, [(pe[i])for i in time])\n",
    "plt.ylabel('Power (kW)')\n",
    "plt.xlabel('Time Step')"
   ]
  },
  {
   "cell_type": "code",
   "execution_count": null,
   "metadata": {},
   "outputs": [],
   "source": [
    "plt.subplot()\n",
    "Line6, = plt.plot([value(soc_time[i])*dt for i in soc_time], [value(m.soc[i]) for i in soc_time])\n",
    "Line7, = plt.plot([value(soc_time[i])*dt for i in soc_time], [max_soc for i in soc_time],'--',color='gray')\n",
    "Line8, = plt.plot([value(soc_time[i])*dt for i in soc_time], [min_soc for i in soc_time],'--',color='gray')\n",
    "plt.text(1,max_soc-10,'max',color='gray')\n",
    "plt.text(1,min_soc-10,'min',color='gray')\n",
    "plt.ylabel('State-of-Charge (%)')\n",
    "plt.xlabel('Time Step')"
   ]
  }
 ],
 "metadata": {
  "kernelspec": {
   "display_name": "building",
   "language": "python",
   "name": "building"
  },
  "language_info": {
   "codemirror_mode": {
    "name": "ipython",
    "version": 3
   },
   "file_extension": ".py",
   "mimetype": "text/x-python",
   "name": "python",
   "nbconvert_exporter": "python",
   "pygments_lexer": "ipython3",
   "version": "3.10.13"
  }
 },
 "nbformat": 4,
 "nbformat_minor": 4
}
