{
 "cells": [
  {
   "cell_type": "code",
   "execution_count": null,
   "id": "3ebc7cf4",
   "metadata": {},
   "outputs": [],
   "source": [
    "import pandas as pd\n",
    "import matplotlib.pyplot as plt"
   ]
  },
  {
   "cell_type": "markdown",
   "id": "33a01875-61fa-4364-9114-8d02290100a5",
   "metadata": {},
   "source": [
    "# Electricity Load and Solar Generation Data\n",
    "\n",
    "This data was obtained from [https://github.com/intelligent-environments-lab/CityLearn](https://github.com/intelligent-environments-lab/CityLearn)"
   ]
  },
  {
   "cell_type": "code",
   "execution_count": null,
   "id": "39848e9c",
   "metadata": {},
   "outputs": [],
   "source": [
    "building_load_profile = pd.read_csv('raw/Building_1.csv')\n",
    "building_load_profile['Load [kWh]'] = building_load_profile['Equipment Electric Power [kWh]'] + building_load_profile['DHW Heating [kWh]'] + building_load_profile['Cooling Load [kWh]']\n",
    "building_load_profile = building_load_profile[['Month', 'Hour', 'Day Type', 'Load [kWh]']]"
   ]
  },
  {
   "cell_type": "code",
   "execution_count": null,
   "id": "4d12b140-a831-4e55-9f11-e47abfdda3d4",
   "metadata": {},
   "outputs": [],
   "source": [
    "building_load_profile['Load [kWh]'].plot()"
   ]
  },
  {
   "cell_type": "code",
   "execution_count": null,
   "id": "363c2258",
   "metadata": {},
   "outputs": [],
   "source": [
    "building_load_profile.to_csv('preprocessed/building_load_profile.csv')"
   ]
  },
  {
   "cell_type": "code",
   "execution_count": null,
   "id": "09ed886e",
   "metadata": {},
   "outputs": [],
   "source": [
    "SOLAR_POWER_INSTALLED = 300\n",
    "\n",
    "solar_generation_profile = pd.read_csv('raw/solar_generation_1kW.csv')\n",
    "solar_generation_profile['Generation [kWh]'] = solar_generation_profile['Hourly Data: AC inverter power (W)'] / 1000\n",
    "solar_generation_profile['Generation [kWh]'] = solar_generation_profile['Generation [kWh]'] * SOLAR_POWER_INSTALLED\n",
    "solar_generation_profile = solar_generation_profile[['Generation [kWh]']]"
   ]
  },
  {
   "cell_type": "code",
   "execution_count": null,
   "id": "7dfe06b0-32c1-4b73-81e2-626df44f8580",
   "metadata": {},
   "outputs": [],
   "source": [
    "solar_generation_profile.plot()"
   ]
  },
  {
   "cell_type": "code",
   "execution_count": null,
   "id": "7da06d35",
   "metadata": {},
   "outputs": [],
   "source": [
    "solar_generation_profile.to_csv('preprocessed/solar_generation_profile.csv')"
   ]
  },
  {
   "cell_type": "markdown",
   "id": "f9ea2dad-74fb-40a3-a404-82c3dc672ab1",
   "metadata": {},
   "source": [
    "# Price Data \n",
    "\n",
    "Data represents stock marked prices from Germany in 2022 taken from [Energy Charts](https://www.energy-charts.info/)"
   ]
  },
  {
   "cell_type": "code",
   "execution_count": null,
   "id": "8ed67333-d1a5-4e45-b6b4-15df645893db",
   "metadata": {},
   "outputs": [],
   "source": [
    "electricity_price_profile = pd.read_csv('raw/energy-charts_Electricity_production_and_spot_prices_in_Germany_in_2022.csv')\n",
    "\n",
    "electricity_price_profile = electricity_price_profile['Day Ahead Auction'][1:]\n",
    "electricity_price_profile = pd.to_numeric(electricity_price_profile)\n",
    "electricity_price_profile = electricity_price_profile / 1000 * 100 # convert from MW to kW and from € to cents"
   ]
  },
  {
   "cell_type": "code",
   "execution_count": null,
   "id": "79a1f7b4-e25c-4eb1-bdf9-d4c3e71a6570",
   "metadata": {},
   "outputs": [],
   "source": [
    "electricity_price_profile.to_csv('preprocessed/electricity_price_profile.csv')"
   ]
  },
  {
   "cell_type": "code",
   "execution_count": null,
   "id": "feeba086-0635-4f3d-ad07-3fdca3448bbc",
   "metadata": {},
   "outputs": [],
   "source": [
    "pd.read_csv('preprocessed/electricity_price_profile.csv')"
   ]
  }
 ],
 "metadata": {
  "kernelspec": {
   "display_name": "building",
   "language": "python",
   "name": "building"
  },
  "language_info": {
   "codemirror_mode": {
    "name": "ipython",
    "version": 3
   },
   "file_extension": ".py",
   "mimetype": "text/x-python",
   "name": "python",
   "nbconvert_exporter": "python",
   "pygments_lexer": "ipython3",
   "version": "3.10.13"
  }
 },
 "nbformat": 4,
 "nbformat_minor": 5
}
