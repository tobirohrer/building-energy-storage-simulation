{
 "cells": [
  {
   "cell_type": "markdown",
   "id": "7a38795d",
   "metadata": {},
   "source": [
    "The files processed in this notebook were obtained from [https://github.com/intelligent-environments-lab/CityLearn](https://github.com/intelligent-environments-lab/CityLearn)"
   ]
  },
  {
   "cell_type": "code",
   "execution_count": null,
   "id": "3ebc7cf4",
   "metadata": {},
   "outputs": [],
   "source": [
    "import pandas as pd\n",
    "import matplotlib.pyplot as plt"
   ]
  },
  {
   "cell_type": "code",
   "execution_count": null,
   "id": "39848e9c",
   "metadata": {},
   "outputs": [],
   "source": [
    "building_load_profile = pd.read_csv('raw/Building_1.csv')\n",
    "building_load_profile['Load [kWh]'] = building_load_profile['Equipment Electric Power [kWh]'] + building_load_profile['DHW Heating [kWh]'] + building_load_profile['Cooling Load [kWh]']\n",
    "building_load_profile = building_load_profile[['Month', 'Hour', 'Day Type', 'Load [kWh]']]"
   ]
  },
  {
   "cell_type": "code",
   "execution_count": null,
   "id": "4d12b140-a831-4e55-9f11-e47abfdda3d4",
   "metadata": {},
   "outputs": [],
   "source": [
    "building_load_profile['Load [kWh]'].plot()"
   ]
  },
  {
   "cell_type": "code",
   "execution_count": null,
   "id": "363c2258",
   "metadata": {},
   "outputs": [],
   "source": [
    "building_load_profile.to_csv('preprocessed/building_load_profile.csv')"
   ]
  },
  {
   "cell_type": "code",
   "execution_count": null,
   "id": "09ed886e",
   "metadata": {},
   "outputs": [],
   "source": [
    "SOLAR_POWER_INSTALLED = 300\n",
    "\n",
    "solar_generation_profile = pd.read_csv('raw/solar_generation_1kW.csv')\n",
    "solar_generation_profile['Generation [kWh]'] = solar_generation_profile['Hourly Data: AC inverter power (W)'] / 1000\n",
    "solar_generation_profile['Generation [kWh]'] = solar_generation_profile['Generation [kWh]'] * SOLAR_POWER_INSTALLED\n",
    "solar_generation_profile = solar_generation_profile[['Generation [kWh]']]"
   ]
  },
  {
   "cell_type": "code",
   "execution_count": null,
   "id": "7dfe06b0-32c1-4b73-81e2-626df44f8580",
   "metadata": {},
   "outputs": [],
   "source": [
    "solar_generation_profile.plot()"
   ]
  },
  {
   "cell_type": "code",
   "execution_count": null,
   "id": "7da06d35",
   "metadata": {},
   "outputs": [],
   "source": [
    "solar_generation_profile.to_csv('preprocessed/solar_generation_profile.csv')"
   ]
  },
  {
   "cell_type": "code",
   "execution_count": null,
   "id": "d39a0d2f",
   "metadata": {},
   "outputs": [],
   "source": [
    "weather_profile = pd.read_csv('raw/weather_data.csv')\n",
    "weather_profile"
   ]
  }
 ],
 "metadata": {
  "kernelspec": {
   "display_name": "building",
   "language": "python",
   "name": "building"
  },
  "language_info": {
   "codemirror_mode": {
    "name": "ipython",
    "version": 3
   },
   "file_extension": ".py",
   "mimetype": "text/x-python",
   "name": "python",
   "nbconvert_exporter": "python",
   "pygments_lexer": "ipython3",
   "version": "3.9.18"
  }
 },
 "nbformat": 4,
 "nbformat_minor": 5
}
