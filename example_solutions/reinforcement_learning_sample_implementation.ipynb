{
 "cells": [
  {
   "cell_type": "code",
   "execution_count": 1,
   "metadata": {},
   "outputs": [],
   "source": [
    "import sys\n",
    "import gymnasium\n",
    "import os\n",
    "import pandas as pd\n",
    "import numpy as np\n",
    "from matplotlib import pyplot as plt\n",
    "\n",
    "from stable_baselines3 import PPO, SAC\n",
    "from stable_baselines3.common.vec_env import DummyVecEnv, VecNormalize\n",
    "from stable_baselines3.common.monitor import Monitor\n",
    "\n",
    "from building_energy_storage_simulation import BuildingSimulation, Environment"
   ]
  },
  {
   "cell_type": "code",
   "execution_count": 2,
   "metadata": {},
   "outputs": [],
   "source": [
    "def read_data():\n",
    "    load = pd.read_csv('../building_energy_storage_simulation/data/preprocessed/electricity_load_profile.csv')[\n",
    "        'Load [kWh]']\n",
    "    price = pd.read_csv('../building_energy_storage_simulation/data/preprocessed/electricity_price_profile.csv')[\n",
    "        'Day Ahead Auction']\n",
    "    generation = pd.read_csv('../building_energy_storage_simulation/data/preprocessed/solar_generation_profile.csv')[\n",
    "        'Generation [kWh]']\n",
    "    return np.array(load), np.array(price), np.array(generation)"
   ]
  },
  {
   "cell_type": "code",
   "execution_count": 3,
   "metadata": {},
   "outputs": [],
   "source": [
    "class ObservationWrapper(gymnasium.Wrapper):\n",
    "    def __init__(self, env, forecast_length):\n",
    "        super().__init__(env)\n",
    "        \n",
    "        self.forecast_length = forecast_length\n",
    "        original_observation_space_length = self.observation_space.shape[0]\n",
    "        self.observation_space = gymnasium.spaces.Box(shape=(original_observation_space_length - forecast_length,),\n",
    "                                                low=-np.inf,\n",
    "                                                high=np.inf, dtype=np.float32)\n",
    "\n",
    "    def reset(self, seed: int = 42, options=None):\n",
    "        obs, info = self.env.reset()\n",
    "        return self.convert_observation(obs), info\n",
    "\n",
    "    def step(self, action):\n",
    "\n",
    "        obs, reward, done, trunc, info = self.env.step(action)\n",
    "        return self.convert_observation(obs), reward, done, trunc, info\n",
    "\n",
    "    def convert_observation(self, obs):\n",
    "        load_forecast = obs[1: self.forecast_length + 1]\n",
    "        generation_forecast = obs[self.forecast_length + 1: 2 * self.forecast_length + 1]\n",
    "        price_forecast = obs[2 * self.forecast_length + 1: 3 * self.forecast_length + 1]\n",
    "        soc = obs[0]\n",
    "        return np.concatenate(([soc],\n",
    "                               load_forecast - generation_forecast,\n",
    "                               price_forecast),\n",
    "                              axis=0)\n",
    "        "
   ]
  },
  {
   "cell_type": "markdown",
   "metadata": {},
   "source": [
    "# Applying Reiforcement Learning Using Stable Baselines 3\n"
   ]
  },
  {
   "cell_type": "code",
   "execution_count": 4,
   "metadata": {},
   "outputs": [
    {
     "name": "stdout",
     "output_type": "stream",
     "text": [
      "[ 0.       9.89     9.08     8.22     8.57     8.93     9.2     10.71\n",
      "  3.98309  5.005    4.133    4.322    4.546    3.767    3.97     4.059\n",
      "  4.326  ]\n"
     ]
    }
   ],
   "source": [
    "RL_PATH = 'rl_example/'\n",
    "os.makedirs(RL_PATH, exist_ok=True)\n",
    "\n",
    "# Create Environment\n",
    "sim = BuildingSimulation(max_battery_charge_per_timestep=50, battery_capacity=200)\n",
    "env = Environment(sim, num_forecasting_steps=8, max_timesteps=4380)\n",
    "env = ObservationWrapper(env, 8)\n",
    "initial_obs, info = env.reset()\n",
    "print(initial_obs)"
   ]
  },
  {
   "cell_type": "code",
   "execution_count": 5,
   "metadata": {},
   "outputs": [],
   "source": [
    "# Wrap with Monitor() so a log of the training is saved \n",
    "env = Monitor(env, filename=RL_PATH)\n",
    "# Warp with DummyVecEnc() so the observations and reward can be normalized using VecNormalize()\n",
    "env = DummyVecEnv([lambda: env])\n",
    "env = VecNormalize(env, norm_obs=True, norm_reward=True)"
   ]
  },
  {
   "cell_type": "code",
   "execution_count": null,
   "metadata": {},
   "outputs": [
    {
     "name": "stdout",
     "output_type": "stream",
     "text": [
      "Using cpu device\n"
     ]
    }
   ],
   "source": [
    "# Train with PPO :-)\n",
    "model = SAC(\"MlpPolicy\", env, verbose=1, gamma=0.95)\n",
    "model.learn(total_timesteps=200000)\n",
    "# Store the trained Model and environment stats (which are needed as we are standardizing the observations and reward using VecNormalize())\n",
    "model.save(RL_PATH + 'model')\n",
    "env.save(RL_PATH + 'env.pkl')"
   ]
  },
  {
   "cell_type": "code",
   "execution_count": null,
   "metadata": {},
   "outputs": [],
   "source": [
    "env.save(RL_PATH + 'env.pkl')"
   ]
  },
  {
   "cell_type": "markdown",
   "metadata": {},
   "source": [
    "# Evaluation"
   ]
  },
  {
   "cell_type": "code",
   "execution_count": null,
   "metadata": {},
   "outputs": [],
   "source": [
    "# Plot the training process\n",
    "training_log = pd.read_csv(RL_PATH + 'monitor.csv', skiprows=1)\n",
    "training_log['r'].plot()"
   ]
  },
  {
   "cell_type": "code",
   "execution_count": null,
   "metadata": {},
   "outputs": [],
   "source": [
    "load, price, generation = read_data()\n",
    "load = load[4380:6080]\n",
    "price = price[4380:6080]\n",
    "generation = generation[4380:6080]\n",
    "\n",
    "max_timesteps = 6000 - 4380\n",
    "\n",
    "eval_sim = BuildingSimulation(electricity_load_profile=load,\n",
    "                              solar_generation_profile=generation,\n",
    "                              electricity_price=price,\n",
    "                              max_battery_charge_per_timestep=50, \n",
    "                              battery_capacity=200)\n",
    "eval_env = Environment(eval_sim, num_forecasting_steps=8, max_timesteps=max_timesteps)\n",
    "eval_env = ObservationWrapper(eval_env, 8)\n",
    "eval_env = DummyVecEnv([lambda: eval_env])\n",
    "# It is important to load the environmental statistics here as we use a rolling mean calculation !\n",
    "eval_env = VecNormalize.load(RL_PATH + 'env.pkl', eval_env)     "
   ]
  },
  {
   "cell_type": "code",
   "execution_count": null,
   "metadata": {},
   "outputs": [],
   "source": [
    "eval_env.training = False\n",
    "\n",
    "actions, observations, electricity_consumption, excess_energy, rewards = ([], [], [], [], [])\n",
    "done = False\n",
    "obs = eval_env.reset()\n",
    "while not done:\n",
    "        action = model.predict(obs, deterministic=True)\n",
    "        obs, r, done, info = eval_env.step([action[0][0]])\n",
    "\n",
    "        actions.append(action[0][0][0])\n",
    "        original_reward = eval_env.get_original_reward()[0]\n",
    "        original_obs = eval_env.get_original_obs()[0]\n",
    "        observations.append(original_obs)\n",
    "        electricity_consumption.append(info[0]['electricity_consumption'])\n",
    "        excess_energy.append(info[0]['electricity_price'])\n",
    "        rewards.append(r)\n",
    "        \n",
    "trajectory = pd.DataFrame({\n",
    "        'action': actions,\n",
    "        'observations': observations,\n",
    "        'electricity_consumption': electricity_consumption,\n",
    "        'electricity_price': excess_energy,\n",
    "        'reward': rewards\n",
    "    })        "
   ]
  },
  {
   "cell_type": "code",
   "execution_count": null,
   "metadata": {},
   "outputs": [],
   "source": [
    "plot_data = trajectory[0:200]\n",
    "observation_df = plot_data['observations'].apply(pd.Series)\n",
    "\n",
    "plt.rcParams[\"figure.figsize\"] = (16,10)\n",
    "\n",
    "fig, ax = plt.subplots()\n",
    "ax.plot(observation_df[1], label = 'Residual Load')\n",
    "ax.plot(plot_data['electricity_price'], label = 'Electricity Price')\n",
    "\n",
    "ax1 = ax.twinx()\n",
    "ax1.plot(plot_data['action'], label = 'action', color = 'black')\n",
    "fig.legend(bbox_to_anchor=[0.5, 0.95], loc = 'center', ncol=5, prop={'size': 16})"
   ]
  },
  {
   "cell_type": "markdown",
   "metadata": {},
   "source": [
    "# Compare to Baseline"
   ]
  },
  {
   "cell_type": "code",
   "execution_count": null,
   "metadata": {},
   "outputs": [],
   "source": [
    "eval_env.training = False\n",
    "\n",
    "cost = []\n",
    "done = False\n",
    "obs = eval_env.reset()\n",
    "while not done:\n",
    "        action = model.predict(obs, deterministic=True)\n",
    "        obs, r, done, info = eval_env.step([action[0][0]])\n",
    "        cost.append(info[0]['electricity_consumption'] * info[0]['electricity_price'])\n",
    "\n",
    "cost = sum(cost)"
   ]
  },
  {
   "cell_type": "code",
   "execution_count": null,
   "metadata": {},
   "outputs": [],
   "source": [
    "eval_env.training = False\n",
    "\n",
    "baseline_cost = []\n",
    "done = False\n",
    "obs = eval_env.reset()\n",
    "while not done:\n",
    "        # Always taking noop as action. This is the electricity demand if there would be no battery\n",
    "        action = [0]\n",
    "        obs, r, done, info = eval_env.step(action)\n",
    "        baseline_cost.append(info[0]['electricity_consumption'] * info[0]['electricity_price'])\n",
    "\n",
    "baseline_cost = sum(baseline_cost)"
   ]
  },
  {
   "cell_type": "code",
   "execution_count": null,
   "metadata": {},
   "outputs": [],
   "source": [
    "# how much energy did we save by utilizing the battery?\n",
    "1 -(cost / baseline_cost)"
   ]
  },
  {
   "cell_type": "code",
   "execution_count": null,
   "metadata": {},
   "outputs": [],
   "source": [
    "baseline_cost"
   ]
  },
  {
   "cell_type": "code",
   "execution_count": null,
   "metadata": {},
   "outputs": [],
   "source": [
    "1 - 0.8971223120327491"
   ]
  }
 ],
 "metadata": {
  "kernelspec": {
   "display_name": "Python 3 (ipykernel)",
   "language": "python",
   "name": "python3"
  },
  "language_info": {
   "codemirror_mode": {
    "name": "ipython",
    "version": 3
   },
   "file_extension": ".py",
   "mimetype": "text/x-python",
   "name": "python",
   "nbconvert_exporter": "python",
   "pygments_lexer": "ipython3",
   "version": "3.10.13"
  }
 },
 "nbformat": 4,
 "nbformat_minor": 4
}
