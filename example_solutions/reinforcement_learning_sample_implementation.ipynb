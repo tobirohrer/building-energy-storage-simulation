{
 "cells": [
  {
   "cell_type": "code",
   "execution_count": null,
   "metadata": {},
   "outputs": [],
   "source": [
    "import sys\n",
    "import gymnasium\n",
    "import os\n",
    "import pandas as pd\n",
    "from matplotlib import pyplot as plt\n",
    "\n",
    "from stable_baselines3 import PPO\n",
    "from stable_baselines3.common.vec_env import DummyVecEnv, VecNormalize\n",
    "from stable_baselines3.common.monitor import Monitor\n",
    "\n",
    "from building_energy_storage_simulation import BuildingSimulation, Environment"
   ]
  },
  {
   "cell_type": "markdown",
   "metadata": {},
   "source": [
    "# Applying Reiforcement Learning Using Stable Baselines 3\n"
   ]
  },
  {
   "cell_type": "code",
   "execution_count": null,
   "metadata": {},
   "outputs": [],
   "source": [
    "RL_PATH = 'rl_example/'\n",
    "os.makedirs(RL_PATH, exist_ok=True)\n",
    "\n",
    "# Create Environment\n",
    "sim = BuildingSimulation()\n",
    "env = Environment(sim)\n",
    "initial_obs, info = env.reset()\n",
    "print(initial_obs)"
   ]
  },
  {
   "cell_type": "code",
   "execution_count": null,
   "metadata": {},
   "outputs": [],
   "source": [
    "# Wrap with Monitor() so a log of the training is saved \n",
    "env = Monitor(env, filename=RL_PATH)\n",
    "# Warp with DummyVecEnc() so the observations and reward can be normalized using VecNormalize()\n",
    "env = DummyVecEnv([lambda: env])\n",
    "env = VecNormalize(env, norm_obs=True, norm_reward=True)"
   ]
  },
  {
   "cell_type": "code",
   "execution_count": null,
   "metadata": {},
   "outputs": [],
   "source": [
    "# Train with PPO :-)\n",
    "model = PPO(\"MlpPolicy\", env, verbose=1, gamma=0.95)\n",
    "model.learn(total_timesteps=50000)\n",
    "# Store the trained Model and environment stats (which are needed as we are standardizing the observations and reward using VecNormalize())\n",
    "model.save(RL_PATH + 'model')\n",
    "env.save(RL_PATH + 'env.pkl')"
   ]
  },
  {
   "cell_type": "markdown",
   "metadata": {},
   "source": [
    "# Evaluation"
   ]
  },
  {
   "cell_type": "code",
   "execution_count": null,
   "metadata": {},
   "outputs": [],
   "source": [
    "# Plot the training process\n",
    "training_log = pd.read_csv(RL_PATH + 'monitor.csv', skiprows=1)\n",
    "training_log['r'].plot()"
   ]
  },
  {
   "cell_type": "code",
   "execution_count": null,
   "metadata": {},
   "outputs": [],
   "source": [
    "env.training = False\n",
    "\n",
    "actions, observations, electricity_consumption, excess_energy, rewards = ([], [], [], [], [])\n",
    "done = False\n",
    "obs = env.reset()\n",
    "while not done:\n",
    "        action = model.predict(obs, deterministic=True)\n",
    "        obs, r, done, info = env.step([action[0][0]])\n",
    "\n",
    "        actions.append(action[0][0][0])\n",
    "        original_reward = env.get_original_reward()[0]\n",
    "        original_obs = env.get_original_obs()[0]\n",
    "        observations.append(original_obs)\n",
    "        electricity_consumption.append(info[0]['electricity_consumption'])\n",
    "        excess_energy.append(info[0]['electricity_price'])\n",
    "        rewards.append(r)\n",
    "        \n",
    "trajectory = pd.DataFrame({\n",
    "        'action': actions,\n",
    "        'observations': observations,\n",
    "        'electricity_consumption': electricity_consumption,\n",
    "        'electricity_price': excess_energy,\n",
    "        'reward': rewards\n",
    "    })        "
   ]
  },
  {
   "cell_type": "code",
   "execution_count": null,
   "metadata": {},
   "outputs": [],
   "source": [
    "plot_data = trajectory[0:200]\n",
    "observation_df = plot_data['observations'].apply(pd.Series)\n",
    "\n",
    "plt.rcParams[\"figure.figsize\"] = (16,10)\n",
    "\n",
    "fig, ax = plt.subplots()\n",
    "ax.plot(observation_df[1], label = 'electric load')\n",
    "ax.plot(observation_df[5], label = 'solar generation')\n",
    "ax.plot(plot_data['electricity_price'], label = 'electricity_price')\n",
    "\n",
    "ax1 = ax.twinx()\n",
    "ax1.plot(plot_data['action'], label = 'action', color = 'black')\n",
    "fig.legend(bbox_to_anchor=[0.5, 0.95], loc = 'center', ncol=5, prop={'size': 16})"
   ]
  },
  {
   "cell_type": "markdown",
   "metadata": {},
   "source": [
    "# Compare to Baseline"
   ]
  },
  {
   "cell_type": "code",
   "execution_count": null,
   "metadata": {},
   "outputs": [],
   "source": [
    "env.training = False\n",
    "\n",
    "cost = []\n",
    "done = False\n",
    "obs = env.reset()\n",
    "while not done:\n",
    "        action = model.predict(obs, deterministic=True)\n",
    "        obs, r, done, info = env.step([action[0][0]])\n",
    "        cost.append(info[0]['electricity_consumption'] * info[0]['electricity_price'])\n",
    "\n",
    "cost = sum(cost)"
   ]
  },
  {
   "cell_type": "code",
   "execution_count": null,
   "metadata": {},
   "outputs": [],
   "source": [
    "env.training = False\n",
    "\n",
    "baseline_cost = []\n",
    "done = False\n",
    "obs = env.reset()\n",
    "while not done:\n",
    "        # Always taking noop as action. This is the electricity demand if there would be no battery\n",
    "        action = [0]\n",
    "        obs, r, done, info = env.step(action)\n",
    "        baseline_cost.append(info[0]['electricity_consumption'] * info[0]['electricity_price'])\n",
    "\n",
    "baseline_cost = sum(baseline_cost)"
   ]
  },
  {
   "cell_type": "code",
   "execution_count": null,
   "metadata": {},
   "outputs": [],
   "source": [
    "# how much energy did we save by utilizing the battery?\n",
    "cost / baseline_cost"
   ]
  }
 ],
 "metadata": {
  "kernelspec": {
   "display_name": "building",
   "language": "python",
   "name": "building"
  },
  "language_info": {
   "codemirror_mode": {
    "name": "ipython",
    "version": 3
   },
   "file_extension": ".py",
   "mimetype": "text/x-python",
   "name": "python",
   "nbconvert_exporter": "python",
   "pygments_lexer": "ipython3",
   "version": "3.10.13"
  }
 },
 "nbformat": 4,
 "nbformat_minor": 4
}
